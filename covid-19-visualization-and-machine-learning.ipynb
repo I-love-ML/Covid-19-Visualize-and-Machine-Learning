{
 "cells": [
  {
   "cell_type": "markdown",
   "id": "4ded6c7c",
   "metadata": {
    "papermill": {
     "duration": 0.015318,
     "end_time": "2023-10-18T07:04:00.583329",
     "exception": false,
     "start_time": "2023-10-18T07:04:00.568011",
     "status": "completed"
    },
    "tags": []
   },
   "source": [
    "# Introduction\n",
    "\n",
    "<font color = \"green\">\n",
    "<font size=\"4\">Hello, welcome to my first notebook, where we will visualize the relationships between people who died and survived the covid virus and those who have never been infected. Finally, we will make various comments using different machine learning algorithms. So let's start.</font>\n",
    "     \n"
   ]
  },
  {
   "cell_type": "markdown",
   "id": "951a67f3",
   "metadata": {
    "papermill": {
     "duration": 0.013594,
     "end_time": "2023-10-18T07:04:00.610462",
     "exception": false,
     "start_time": "2023-10-18T07:04:00.596868",
     "status": "completed"
    },
    "tags": []
   },
   "source": [
    "1. [Content](#1)\n",
    "2. [Check and Load data](#2)\n",
    "3. [Feature Engineering](#3)\n",
    "> * [Edit and drop some futures](#18)\n",
    "> * [Make logic and assigning null values ​​to a single variable](#19)\n",
    "> * [Visualize which variable contains a null value](#20)\n",
    "> * [Check data balance](#21)\n",
    "> * [Trying to balance the data](#22)\n",
    "4. [Data Visualization](#4)\n",
    "5.[Final checks and preparing data](#5)\n",
    "> * [Check Futures](#6)\n",
    "> * [Scaling Data](#7)\n",
    "> * [Separating futures and labels](#8)\n",
    "6. [Train test splits and get balance the data](#9)\n",
    "7. [Machine Learning](#10)\n",
    "> * [Logistic Regression](#11)\n",
    "> * [KNN](#12)\n",
    "> * [Decision Tree](#13)\n",
    "> * [Random Forest](#14)\n",
    "> * [Naive Base](#15)\n",
    "> * [K Fold Cross Validation with Logistic Regression](#16)\n",
    "> * [Grid Search Cross Validation with Logistic Regression](#17)\n",
    "8. [Conclusion](#23)"
   ]
  },
  {
   "cell_type": "markdown",
   "id": "b5146f0d",
   "metadata": {
    "papermill": {
     "duration": 0.013,
     "end_time": "2023-10-18T07:04:00.636852",
     "exception": false,
     "start_time": "2023-10-18T07:04:00.623852",
     "status": "completed"
    },
    "tags": []
   },
   "source": [
    "<font color = \"black\">\n",
    "<a id =\"1\"></a>\n",
    "    <font size=\"5\">Content:</font></br></br></br>\n",
    "\n",
    "    The dataset was provided by the Mexican government (link). This dataset contains an enormous number of anonymized patient-related information including pre-conditions. The raw dataset consists of 21 unique features and 1,048,576 unique patients. In the Boolean features, 1 means \"yes\" and 2 means \"no\". values as 97 and 99 are missing data.\n",
    "\n",
    "* sex: 1 for female and 2 for male.\n",
    "* age: of the patient.\n",
    "* classification: covid test findings. Values 1-3 mean that the patient was diagnosed with covid in different\n",
    "* degrees. 4 or higher means that the patient is not a carrier of covid or that the test is inconclusive.\n",
    "* patient type: type of care the patient received in the unit. 1 for returned home and 2 for hospitalization.\n",
    "* pneumonia: whether the patient already have air sacs inflammation or not.\n",
    "* pregnancy: whether the patient is pregnant or not.\n",
    "* diabetes: whether the patient has diabetes or not.\n",
    "* copd: Indicates whether the patient has Chronic obstructive pulmonary disease or not.\n",
    "* asthma: whether the patient has asthma or not.\n",
    "* inmsupr: whether the patient is immunosuppressed or not.\n",
    "* hypertension: whether the patient has hypertension or not.\n",
    "* cardiovascular: whether the patient has heart or blood vessels related disease.\n",
    "* renal chronic: whether the patient has chronic renal disease or not.\n",
    "* other disease: whether the patient has other disease or not.\n",
    "* obesity: whether the patient is obese or not.\n",
    "* tobacco: whether the patient is a tobacco user.\n",
    "* usmr: Indicates whether the patient treated medical units of the first, second or third level.\n",
    "* medical unit: type of institution of the National Health System that provided the care.\n",
    "* intubed: whether the patient was connected to the ventilator.\n",
    "* icu: Indicates whether the patient had been admitted to an Intensive Care Unit.\n",
    "* date died: If the patient died indicate the date of death, and 9999-99-99 otherwise.    \n",
    "\n"
   ]
  },
  {
   "cell_type": "code",
   "execution_count": 1,
   "id": "01459101",
   "metadata": {
    "_cell_guid": "b1076dfc-b9ad-4769-8c92-a6c4dae69d19",
    "_uuid": "8f2839f25d086af736a60e9eeb907d3b93b6e0e5",
    "execution": {
     "iopub.execute_input": "2023-10-18T07:04:00.665555Z",
     "iopub.status.busy": "2023-10-18T07:04:00.664560Z",
     "iopub.status.idle": "2023-10-18T07:04:02.273221Z",
     "shell.execute_reply": "2023-10-18T07:04:02.271980Z"
    },
    "papermill": {
     "duration": 1.626204,
     "end_time": "2023-10-18T07:04:02.276003",
     "exception": false,
     "start_time": "2023-10-18T07:04:00.649799",
     "status": "completed"
    },
    "tags": []
   },
   "outputs": [],
   "source": [
    "import numpy as np\n",
    "import pandas as pd\n",
    "import matplotlib.pyplot as plt\n",
    "import warnings\n",
    "import seaborn as sns\n",
    "from sklearn.metrics import confusion_matrix,r2_score,f1_score\n",
    "from sklearn.tree import DecisionTreeClassifier\n",
    "from sklearn.ensemble import RandomForestClassifier\n",
    "from sklearn.svm import SVC\n",
    "from sklearn.linear_model import LogisticRegression\n",
    "from sklearn.model_selection import train_test_split,GridSearchCV,cross_val_score\n",
    "from sklearn.preprocessing import RobustScaler\n",
    "from imblearn.over_sampling import RandomOverSampler\n",
    "from imblearn.under_sampling import RandomUnderSampler\n",
    "from sklearn.naive_bayes import GaussianNB\n",
    "from sklearn.neighbors import KNeighborsClassifier\n",
    "warnings.filterwarnings(\"ignore\")"
   ]
  },
  {
   "cell_type": "markdown",
   "id": "91d4d5f1",
   "metadata": {
    "papermill": {
     "duration": 0.012586,
     "end_time": "2023-10-18T07:04:02.301565",
     "exception": false,
     "start_time": "2023-10-18T07:04:02.288979",
     "status": "completed"
    },
    "tags": []
   },
   "source": [
    "<a id =\"2\"></a>\n",
    "# Load and Check Data"
   ]
  },
  {
   "cell_type": "code",
   "execution_count": 2,
   "id": "beb6119e",
   "metadata": {
    "execution": {
     "iopub.execute_input": "2023-10-18T07:04:02.329425Z",
     "iopub.status.busy": "2023-10-18T07:04:02.328787Z",
     "iopub.status.idle": "2023-10-18T07:04:04.871212Z",
     "shell.execute_reply": "2023-10-18T07:04:04.869652Z"
    },
    "papermill": {
     "duration": 2.559195,
     "end_time": "2023-10-18T07:04:04.873668",
     "exception": false,
     "start_time": "2023-10-18T07:04:02.314473",
     "status": "completed"
    },
    "tags": []
   },
   "outputs": [],
   "source": [
    "data=pd.read_csv(\"/kaggle/input/covid19-dataset/Covid Data.csv\")"
   ]
  },
  {
   "cell_type": "code",
   "execution_count": 3,
   "id": "883cabf7",
   "metadata": {
    "execution": {
     "iopub.execute_input": "2023-10-18T07:04:04.901272Z",
     "iopub.status.busy": "2023-10-18T07:04:04.900892Z",
     "iopub.status.idle": "2023-10-18T07:04:05.010691Z",
     "shell.execute_reply": "2023-10-18T07:04:05.009971Z"
    },
    "papermill": {
     "duration": 0.126246,
     "end_time": "2023-10-18T07:04:05.013042",
     "exception": false,
     "start_time": "2023-10-18T07:04:04.886796",
     "status": "completed"
    },
    "tags": []
   },
   "outputs": [
    {
     "name": "stdout",
     "output_type": "stream",
     "text": [
      "<class 'pandas.core.frame.DataFrame'>\n",
      "RangeIndex: 1048575 entries, 0 to 1048574\n",
      "Data columns (total 21 columns):\n",
      " #   Column                Non-Null Count    Dtype \n",
      "---  ------                --------------    ----- \n",
      " 0   USMER                 1048575 non-null  int64 \n",
      " 1   MEDICAL_UNIT          1048575 non-null  int64 \n",
      " 2   SEX                   1048575 non-null  int64 \n",
      " 3   PATIENT_TYPE          1048575 non-null  int64 \n",
      " 4   DATE_DIED             1048575 non-null  object\n",
      " 5   INTUBED               1048575 non-null  int64 \n",
      " 6   PNEUMONIA             1048575 non-null  int64 \n",
      " 7   AGE                   1048575 non-null  int64 \n",
      " 8   PREGNANT              1048575 non-null  int64 \n",
      " 9   DIABETES              1048575 non-null  int64 \n",
      " 10  COPD                  1048575 non-null  int64 \n",
      " 11  ASTHMA                1048575 non-null  int64 \n",
      " 12  INMSUPR               1048575 non-null  int64 \n",
      " 13  HIPERTENSION          1048575 non-null  int64 \n",
      " 14  OTHER_DISEASE         1048575 non-null  int64 \n",
      " 15  CARDIOVASCULAR        1048575 non-null  int64 \n",
      " 16  OBESITY               1048575 non-null  int64 \n",
      " 17  RENAL_CHRONIC         1048575 non-null  int64 \n",
      " 18  TOBACCO               1048575 non-null  int64 \n",
      " 19  CLASIFFICATION_FINAL  1048575 non-null  int64 \n",
      " 20  ICU                   1048575 non-null  int64 \n",
      "dtypes: int64(20), object(1)\n",
      "memory usage: 168.0+ MB\n"
     ]
    }
   ],
   "source": [
    "data.info()"
   ]
  },
  {
   "cell_type": "code",
   "execution_count": 4,
   "id": "d8815d91",
   "metadata": {
    "execution": {
     "iopub.execute_input": "2023-10-18T07:04:05.040998Z",
     "iopub.status.busy": "2023-10-18T07:04:05.040582Z",
     "iopub.status.idle": "2023-10-18T07:04:05.049240Z",
     "shell.execute_reply": "2023-10-18T07:04:05.048224Z"
    },
    "papermill": {
     "duration": 0.025392,
     "end_time": "2023-10-18T07:04:05.051511",
     "exception": false,
     "start_time": "2023-10-18T07:04:05.026119",
     "status": "completed"
    },
    "tags": []
   },
   "outputs": [
    {
     "data": {
      "text/plain": [
       "(1048575, 21)"
      ]
     },
     "execution_count": 4,
     "metadata": {},
     "output_type": "execute_result"
    }
   ],
   "source": [
    "data.shape"
   ]
  },
  {
   "cell_type": "code",
   "execution_count": 5,
   "id": "a7a6bc18",
   "metadata": {
    "execution": {
     "iopub.execute_input": "2023-10-18T07:04:05.079786Z",
     "iopub.status.busy": "2023-10-18T07:04:05.079344Z",
     "iopub.status.idle": "2023-10-18T07:04:05.100819Z",
     "shell.execute_reply": "2023-10-18T07:04:05.099730Z"
    },
    "papermill": {
     "duration": 0.037931,
     "end_time": "2023-10-18T07:04:05.102871",
     "exception": false,
     "start_time": "2023-10-18T07:04:05.064940",
     "status": "completed"
    },
    "tags": []
   },
   "outputs": [
    {
     "data": {
      "text/html": [
       "<div>\n",
       "<style scoped>\n",
       "    .dataframe tbody tr th:only-of-type {\n",
       "        vertical-align: middle;\n",
       "    }\n",
       "\n",
       "    .dataframe tbody tr th {\n",
       "        vertical-align: top;\n",
       "    }\n",
       "\n",
       "    .dataframe thead th {\n",
       "        text-align: right;\n",
       "    }\n",
       "</style>\n",
       "<table border=\"1\" class=\"dataframe\">\n",
       "  <thead>\n",
       "    <tr style=\"text-align: right;\">\n",
       "      <th></th>\n",
       "      <th>USMER</th>\n",
       "      <th>MEDICAL_UNIT</th>\n",
       "      <th>SEX</th>\n",
       "      <th>PATIENT_TYPE</th>\n",
       "      <th>DATE_DIED</th>\n",
       "      <th>INTUBED</th>\n",
       "      <th>PNEUMONIA</th>\n",
       "      <th>AGE</th>\n",
       "      <th>PREGNANT</th>\n",
       "      <th>DIABETES</th>\n",
       "      <th>...</th>\n",
       "      <th>ASTHMA</th>\n",
       "      <th>INMSUPR</th>\n",
       "      <th>HIPERTENSION</th>\n",
       "      <th>OTHER_DISEASE</th>\n",
       "      <th>CARDIOVASCULAR</th>\n",
       "      <th>OBESITY</th>\n",
       "      <th>RENAL_CHRONIC</th>\n",
       "      <th>TOBACCO</th>\n",
       "      <th>CLASIFFICATION_FINAL</th>\n",
       "      <th>ICU</th>\n",
       "    </tr>\n",
       "  </thead>\n",
       "  <tbody>\n",
       "    <tr>\n",
       "      <th>0</th>\n",
       "      <td>2</td>\n",
       "      <td>1</td>\n",
       "      <td>1</td>\n",
       "      <td>1</td>\n",
       "      <td>03/05/2020</td>\n",
       "      <td>97</td>\n",
       "      <td>1</td>\n",
       "      <td>65</td>\n",
       "      <td>2</td>\n",
       "      <td>2</td>\n",
       "      <td>...</td>\n",
       "      <td>2</td>\n",
       "      <td>2</td>\n",
       "      <td>1</td>\n",
       "      <td>2</td>\n",
       "      <td>2</td>\n",
       "      <td>2</td>\n",
       "      <td>2</td>\n",
       "      <td>2</td>\n",
       "      <td>3</td>\n",
       "      <td>97</td>\n",
       "    </tr>\n",
       "    <tr>\n",
       "      <th>1</th>\n",
       "      <td>2</td>\n",
       "      <td>1</td>\n",
       "      <td>2</td>\n",
       "      <td>1</td>\n",
       "      <td>03/06/2020</td>\n",
       "      <td>97</td>\n",
       "      <td>1</td>\n",
       "      <td>72</td>\n",
       "      <td>97</td>\n",
       "      <td>2</td>\n",
       "      <td>...</td>\n",
       "      <td>2</td>\n",
       "      <td>2</td>\n",
       "      <td>1</td>\n",
       "      <td>2</td>\n",
       "      <td>2</td>\n",
       "      <td>1</td>\n",
       "      <td>1</td>\n",
       "      <td>2</td>\n",
       "      <td>5</td>\n",
       "      <td>97</td>\n",
       "    </tr>\n",
       "    <tr>\n",
       "      <th>2</th>\n",
       "      <td>2</td>\n",
       "      <td>1</td>\n",
       "      <td>2</td>\n",
       "      <td>2</td>\n",
       "      <td>09/06/2020</td>\n",
       "      <td>1</td>\n",
       "      <td>2</td>\n",
       "      <td>55</td>\n",
       "      <td>97</td>\n",
       "      <td>1</td>\n",
       "      <td>...</td>\n",
       "      <td>2</td>\n",
       "      <td>2</td>\n",
       "      <td>2</td>\n",
       "      <td>2</td>\n",
       "      <td>2</td>\n",
       "      <td>2</td>\n",
       "      <td>2</td>\n",
       "      <td>2</td>\n",
       "      <td>3</td>\n",
       "      <td>2</td>\n",
       "    </tr>\n",
       "    <tr>\n",
       "      <th>3</th>\n",
       "      <td>2</td>\n",
       "      <td>1</td>\n",
       "      <td>1</td>\n",
       "      <td>1</td>\n",
       "      <td>12/06/2020</td>\n",
       "      <td>97</td>\n",
       "      <td>2</td>\n",
       "      <td>53</td>\n",
       "      <td>2</td>\n",
       "      <td>2</td>\n",
       "      <td>...</td>\n",
       "      <td>2</td>\n",
       "      <td>2</td>\n",
       "      <td>2</td>\n",
       "      <td>2</td>\n",
       "      <td>2</td>\n",
       "      <td>2</td>\n",
       "      <td>2</td>\n",
       "      <td>2</td>\n",
       "      <td>7</td>\n",
       "      <td>97</td>\n",
       "    </tr>\n",
       "    <tr>\n",
       "      <th>4</th>\n",
       "      <td>2</td>\n",
       "      <td>1</td>\n",
       "      <td>2</td>\n",
       "      <td>1</td>\n",
       "      <td>21/06/2020</td>\n",
       "      <td>97</td>\n",
       "      <td>2</td>\n",
       "      <td>68</td>\n",
       "      <td>97</td>\n",
       "      <td>1</td>\n",
       "      <td>...</td>\n",
       "      <td>2</td>\n",
       "      <td>2</td>\n",
       "      <td>1</td>\n",
       "      <td>2</td>\n",
       "      <td>2</td>\n",
       "      <td>2</td>\n",
       "      <td>2</td>\n",
       "      <td>2</td>\n",
       "      <td>3</td>\n",
       "      <td>97</td>\n",
       "    </tr>\n",
       "  </tbody>\n",
       "</table>\n",
       "<p>5 rows × 21 columns</p>\n",
       "</div>"
      ],
      "text/plain": [
       "   USMER  MEDICAL_UNIT  SEX  PATIENT_TYPE   DATE_DIED  INTUBED  PNEUMONIA  \\\n",
       "0      2             1    1             1  03/05/2020       97          1   \n",
       "1      2             1    2             1  03/06/2020       97          1   \n",
       "2      2             1    2             2  09/06/2020        1          2   \n",
       "3      2             1    1             1  12/06/2020       97          2   \n",
       "4      2             1    2             1  21/06/2020       97          2   \n",
       "\n",
       "   AGE  PREGNANT  DIABETES  ...  ASTHMA  INMSUPR  HIPERTENSION  OTHER_DISEASE  \\\n",
       "0   65         2         2  ...       2        2             1              2   \n",
       "1   72        97         2  ...       2        2             1              2   \n",
       "2   55        97         1  ...       2        2             2              2   \n",
       "3   53         2         2  ...       2        2             2              2   \n",
       "4   68        97         1  ...       2        2             1              2   \n",
       "\n",
       "   CARDIOVASCULAR  OBESITY  RENAL_CHRONIC  TOBACCO  CLASIFFICATION_FINAL  ICU  \n",
       "0               2        2              2        2                     3   97  \n",
       "1               2        1              1        2                     5   97  \n",
       "2               2        2              2        2                     3    2  \n",
       "3               2        2              2        2                     7   97  \n",
       "4               2        2              2        2                     3   97  \n",
       "\n",
       "[5 rows x 21 columns]"
      ]
     },
     "execution_count": 5,
     "metadata": {},
     "output_type": "execute_result"
    }
   ],
   "source": [
    "data.head()"
   ]
  },
  {
   "cell_type": "code",
   "execution_count": 6,
   "id": "2047edf9",
   "metadata": {
    "execution": {
     "iopub.execute_input": "2023-10-18T07:04:05.131231Z",
     "iopub.status.busy": "2023-10-18T07:04:05.130848Z",
     "iopub.status.idle": "2023-10-18T07:04:05.216658Z",
     "shell.execute_reply": "2023-10-18T07:04:05.215916Z"
    },
    "papermill": {
     "duration": 0.102074,
     "end_time": "2023-10-18T07:04:05.218483",
     "exception": false,
     "start_time": "2023-10-18T07:04:05.116409",
     "status": "completed"
    },
    "tags": []
   },
   "outputs": [
    {
     "data": {
      "text/plain": [
       "0"
      ]
     },
     "execution_count": 6,
     "metadata": {},
     "output_type": "execute_result"
    }
   ],
   "source": [
    "data.isna().sum().sum()"
   ]
  },
  {
   "cell_type": "markdown",
   "id": "052e81d1",
   "metadata": {
    "papermill": {
     "duration": 0.013974,
     "end_time": "2023-10-18T07:04:05.246500",
     "exception": false,
     "start_time": "2023-10-18T07:04:05.232526",
     "status": "completed"
    },
    "tags": []
   },
   "source": [
    "* There are no null values ​​in the data set, but there are data that mean null values, we will look at them."
   ]
  },
  {
   "cell_type": "markdown",
   "id": "e371df53",
   "metadata": {
    "papermill": {
     "duration": 0.013384,
     "end_time": "2023-10-18T07:04:05.273748",
     "exception": false,
     "start_time": "2023-10-18T07:04:05.260364",
     "status": "completed"
    },
    "tags": []
   },
   "source": [
    "<a id =\"3\"></a>\n",
    "# Feature engineering"
   ]
  },
  {
   "cell_type": "markdown",
   "id": "71ece058",
   "metadata": {
    "papermill": {
     "duration": 0.013409,
     "end_time": "2023-10-18T07:04:05.300687",
     "exception": false,
     "start_time": "2023-10-18T07:04:05.287278",
     "status": "completed"
    },
    "tags": []
   },
   "source": [
    "* As mentioned in the data, the values ​​97, 98 and 99 are our null values. In the future, we will combine them into a single value."
   ]
  },
  {
   "cell_type": "code",
   "execution_count": 7,
   "id": "60372d87",
   "metadata": {
    "execution": {
     "iopub.execute_input": "2023-10-18T07:04:05.329848Z",
     "iopub.status.busy": "2023-10-18T07:04:05.329442Z",
     "iopub.status.idle": "2023-10-18T07:04:05.535142Z",
     "shell.execute_reply": "2023-10-18T07:04:05.533854Z"
    },
    "papermill": {
     "duration": 0.223379,
     "end_time": "2023-10-18T07:04:05.537910",
     "exception": false,
     "start_time": "2023-10-18T07:04:05.314531",
     "status": "completed"
    },
    "tags": []
   },
   "outputs": [
    {
     "name": "stdout",
     "output_type": "stream",
     "text": [
      "2    662903\n",
      "1    385672\n",
      "Name: USMER, dtype: int64\n",
      "\n",
      "\n",
      "12    602995\n",
      "4     314405\n",
      "6      40584\n",
      "9      38116\n",
      "3      19175\n",
      "8      10399\n",
      "10      7873\n",
      "5       7244\n",
      "11      5577\n",
      "13       996\n",
      "7        891\n",
      "2        169\n",
      "1        151\n",
      "Name: MEDICAL_UNIT, dtype: int64\n",
      "\n",
      "\n",
      "1    525064\n",
      "2    523511\n",
      "Name: SEX, dtype: int64\n",
      "\n",
      "\n",
      "1    848544\n",
      "2    200031\n",
      "Name: PATIENT_TYPE, dtype: int64\n",
      "\n",
      "\n",
      "9999-99-99    971633\n",
      "06/07/2020      1000\n",
      "07/07/2020       996\n",
      "13/07/2020       990\n",
      "16/06/2020       979\n",
      "               ...  \n",
      "24/11/2020         1\n",
      "17/12/2020         1\n",
      "08/12/2020         1\n",
      "16/03/2021         1\n",
      "22/04/2021         1\n",
      "Name: DATE_DIED, Length: 401, dtype: int64\n",
      "\n",
      "\n",
      "97    848544\n",
      "2     159050\n",
      "1      33656\n",
      "99      7325\n",
      "Name: INTUBED, dtype: int64\n",
      "\n",
      "\n",
      "2     892534\n",
      "1     140038\n",
      "99     16003\n",
      "Name: PNEUMONIA, dtype: int64\n",
      "\n",
      "\n",
      "30     27010\n",
      "31     25927\n",
      "28     25313\n",
      "29     25134\n",
      "34     24872\n",
      "       ...  \n",
      "114        2\n",
      "116        2\n",
      "111        1\n",
      "121        1\n",
      "113        1\n",
      "Name: AGE, Length: 121, dtype: int64\n",
      "\n",
      "\n",
      "97    523511\n",
      "2     513179\n",
      "1       8131\n",
      "98      3754\n",
      "Name: PREGNANT, dtype: int64\n",
      "\n",
      "\n",
      "2     920248\n",
      "1     124989\n",
      "98      3338\n",
      "Name: DIABETES, dtype: int64\n",
      "\n",
      "\n",
      "2     1030510\n",
      "1       15062\n",
      "98       3003\n",
      "Name: COPD, dtype: int64\n",
      "\n",
      "\n",
      "2     1014024\n",
      "1       31572\n",
      "98       2979\n",
      "Name: ASTHMA, dtype: int64\n",
      "\n",
      "\n",
      "2     1031001\n",
      "1       14170\n",
      "98       3404\n",
      "Name: INMSUPR, dtype: int64\n",
      "\n",
      "\n",
      "2     882742\n",
      "1     162729\n",
      "98      3104\n",
      "Name: HIPERTENSION, dtype: int64\n",
      "\n",
      "\n",
      "2     1015490\n",
      "1       28040\n",
      "98       5045\n",
      "Name: OTHER_DISEASE, dtype: int64\n",
      "\n",
      "\n",
      "2     1024730\n",
      "1       20769\n",
      "98       3076\n",
      "Name: CARDIOVASCULAR, dtype: int64\n",
      "\n",
      "\n",
      "2     885727\n",
      "1     159816\n",
      "98      3032\n",
      "Name: OBESITY, dtype: int64\n",
      "\n",
      "\n",
      "2     1026665\n",
      "1       18904\n",
      "98       3006\n",
      "Name: RENAL_CHRONIC, dtype: int64\n",
      "\n",
      "\n",
      "2     960979\n",
      "1      84376\n",
      "98      3220\n",
      "Name: TOBACCO, dtype: int64\n",
      "\n",
      "\n",
      "7    499250\n",
      "3    381527\n",
      "6    128133\n",
      "5     26091\n",
      "1      8601\n",
      "4      3122\n",
      "2      1851\n",
      "Name: CLASIFFICATION_FINAL, dtype: int64\n",
      "\n",
      "\n",
      "97    848544\n",
      "2     175685\n",
      "1      16858\n",
      "99      7488\n",
      "Name: ICU, dtype: int64\n",
      "\n",
      "\n"
     ]
    }
   ],
   "source": [
    "for i in data.columns:\n",
    "    print(data[i].value_counts())\n",
    "    print(\"\\n\")"
   ]
  },
  {
   "cell_type": "markdown",
   "id": "16d9f15a",
   "metadata": {
    "papermill": {
     "duration": 0.013463,
     "end_time": "2023-10-18T07:04:05.565304",
     "exception": false,
     "start_time": "2023-10-18T07:04:05.551841",
     "status": "completed"
    },
    "tags": []
   },
   "source": [
    "<a id =\"18\"></a>\n",
    "* First of all, let's edit futures that do not have null values ​​and are not classified."
   ]
  },
  {
   "cell_type": "code",
   "execution_count": 8,
   "id": "4dde0940",
   "metadata": {
    "execution": {
     "iopub.execute_input": "2023-10-18T07:04:05.595746Z",
     "iopub.status.busy": "2023-10-18T07:04:05.594604Z",
     "iopub.status.idle": "2023-10-18T07:04:05.975490Z",
     "shell.execute_reply": "2023-10-18T07:04:05.974623Z"
    },
    "papermill": {
     "duration": 0.398597,
     "end_time": "2023-10-18T07:04:05.977747",
     "exception": false,
     "start_time": "2023-10-18T07:04:05.579150",
     "status": "completed"
    },
    "tags": []
   },
   "outputs": [],
   "source": [
    "data[\"ALIVE\"]=[1 if i==\"9999-99-99\" else 0 for i in data[\"DATE_DIED\"]]"
   ]
  },
  {
   "cell_type": "markdown",
   "id": "9100bedb",
   "metadata": {
    "papermill": {
     "duration": 0.013514,
     "end_time": "2023-10-18T07:04:06.005295",
     "exception": false,
     "start_time": "2023-10-18T07:04:05.991781",
     "status": "completed"
    },
    "tags": []
   },
   "source": [
    "* In the date died future in the data set, we assigned the value 1 to those without a date of death and 0 to those with a date of death."
   ]
  },
  {
   "cell_type": "code",
   "execution_count": 9,
   "id": "bd0ff2f2",
   "metadata": {
    "execution": {
     "iopub.execute_input": "2023-10-18T07:04:06.034870Z",
     "iopub.status.busy": "2023-10-18T07:04:06.033978Z",
     "iopub.status.idle": "2023-10-18T07:04:06.236787Z",
     "shell.execute_reply": "2023-10-18T07:04:06.235555Z"
    },
    "papermill": {
     "duration": 0.220567,
     "end_time": "2023-10-18T07:04:06.239523",
     "exception": false,
     "start_time": "2023-10-18T07:04:06.018956",
     "status": "completed"
    },
    "tags": []
   },
   "outputs": [],
   "source": [
    "data.drop(\"DATE_DIED\",axis=1,inplace=True) # We don't need Date_died future anymore, we remove it from our data."
   ]
  },
  {
   "cell_type": "markdown",
   "id": "5dcbd561",
   "metadata": {
    "papermill": {
     "duration": 0.013629,
     "end_time": "2023-10-18T07:04:06.268728",
     "exception": false,
     "start_time": "2023-10-18T07:04:06.255099",
     "status": "completed"
    },
    "tags": []
   },
   "source": [
    "* Values ​​between 1 and 3 in the CLASIFFICATION_FINAL future are people who have been infected with the covid virus before. Those that are greater than these values ​​are people who have been tested and have negative results or whose results are unknown.\n",
    "* We assign a value of 1 to our data for people who have previously been infected with the corona virus, and 0 to people who have not been infected with this virus or whose result is unknown."
   ]
  },
  {
   "cell_type": "code",
   "execution_count": 10,
   "id": "3020e315",
   "metadata": {
    "execution": {
     "iopub.execute_input": "2023-10-18T07:04:06.297685Z",
     "iopub.status.busy": "2023-10-18T07:04:06.297293Z",
     "iopub.status.idle": "2023-10-18T07:04:06.888746Z",
     "shell.execute_reply": "2023-10-18T07:04:06.887373Z"
    },
    "papermill": {
     "duration": 0.60879,
     "end_time": "2023-10-18T07:04:06.891290",
     "exception": false,
     "start_time": "2023-10-18T07:04:06.282500",
     "status": "completed"
    },
    "tags": []
   },
   "outputs": [],
   "source": [
    "data[\"INFECTED\"]=[1 if each<4 else 0 for each in data[\"CLASIFFICATION_FINAL\"]]\n",
    "data.drop(\"CLASIFFICATION_FINAL\",axis=1,inplace=True)"
   ]
  },
  {
   "cell_type": "markdown",
   "id": "d0228971",
   "metadata": {
    "papermill": {
     "duration": 0.013394,
     "end_time": "2023-10-18T07:04:06.918679",
     "exception": false,
     "start_time": "2023-10-18T07:04:06.905285",
     "status": "completed"
    },
    "tags": []
   },
   "source": [
    "<a id =\"19\"></a>\n",
    "* We make a list of column names that contain null values ​​in the data and make the data logical."
   ]
  },
  {
   "cell_type": "code",
   "execution_count": 11,
   "id": "5053be1b",
   "metadata": {
    "execution": {
     "iopub.execute_input": "2023-10-18T07:04:06.948114Z",
     "iopub.status.busy": "2023-10-18T07:04:06.947113Z",
     "iopub.status.idle": "2023-10-18T07:04:07.236347Z",
     "shell.execute_reply": "2023-10-18T07:04:07.235244Z"
    },
    "papermill": {
     "duration": 0.306521,
     "end_time": "2023-10-18T07:04:07.238828",
     "exception": false,
     "start_time": "2023-10-18T07:04:06.932307",
     "status": "completed"
    },
    "tags": []
   },
   "outputs": [],
   "source": [
    "null_or_non_zero_list=[\"USMER\",\"SEX\",\"PATIENT_TYPE\",\"INTUBED\",\"PNEUMONIA\",\"PREGNANT\",\"DIABETES\",\"COPD\",\"ASTHMA\",\"INMSUPR\",\"HIPERTENSION\",\"OTHER_DISEASE\",\"CARDIOVASCULAR\",\"OBESITY\",\"RENAL_CHRONIC\",\"TOBACCO\",\"ICU\"]\n",
    "for each in null_or_non_zero_list:\n",
    "    # We set the data with values ​​of 2 to 0 to ensure that our data is logical. Sex future => 0 = Male, 1=Female\n",
    "    data[each]=data[each].replace(2,0)\n",
    "    # we set the null values to 98\n",
    "    data[each]=data[each].replace([97,99],98) "
   ]
  },
  {
   "cell_type": "markdown",
   "id": "a3667559",
   "metadata": {
    "papermill": {
     "duration": 0.013628,
     "end_time": "2023-10-18T07:04:07.266779",
     "exception": false,
     "start_time": "2023-10-18T07:04:07.253151",
     "status": "completed"
    },
    "tags": []
   },
   "source": [
    "<a id =\"20\"></a>\n",
    "* Now that we have assigned our null values, let's find out how many of these values ​​are in which future."
   ]
  },
  {
   "cell_type": "code",
   "execution_count": 12,
   "id": "db2de59b",
   "metadata": {
    "execution": {
     "iopub.execute_input": "2023-10-18T07:04:07.296007Z",
     "iopub.status.busy": "2023-10-18T07:04:07.295412Z",
     "iopub.status.idle": "2023-10-18T07:04:09.264731Z",
     "shell.execute_reply": "2023-10-18T07:04:09.263622Z"
    },
    "papermill": {
     "duration": 1.986746,
     "end_time": "2023-10-18T07:04:09.267162",
     "exception": false,
     "start_time": "2023-10-18T07:04:07.280416",
     "status": "completed"
    },
    "tags": []
   },
   "outputs": [
    {
     "data": {
      "image/png": "[encoded data removed]",
      "text/plain": [
       "<Figure size 1440x720 with 20 Axes>"
      ]
     },
     "metadata": {
      "needs_background": "light"
     },
     "output_type": "display_data"
    }
   ],
   "source": [
    "fig,axes=plt.subplots(5,4,sharex=True,figsize=(20,10))\n",
    "fig.suptitle(\"Future's value counts\")\n",
    "\n",
    "a=0\n",
    "b=0\n",
    "for each in null_or_non_zero_list: \n",
    "    sns.barplot(ax=axes[a][b],x=data[each].value_counts().index,y=data[each].value_counts().values,palette=[\"blue\",\"orange\",\"red\"])\n",
    "    axes[a][b].set_title(each,color=\"blue\")\n",
    "    b+=1\n",
    "    if b>3:\n",
    "        a+=1\n",
    "        b=0"
   ]
  },
  {
   "cell_type": "markdown",
   "id": "150354fe",
   "metadata": {
    "papermill": {
     "duration": 0.014492,
     "end_time": "2023-10-18T07:04:09.296749",
     "exception": false,
     "start_time": "2023-10-18T07:04:09.282257",
     "status": "completed"
    },
    "tags": []
   },
   "source": [
    "<a id =\"21\"></a>\n",
    "#### As seen in the graph, there are 3 futures(INTUBED,PREGNANT and ICU) with more null(98) values. We don't want to lose them. So we will need to find out which class these null values ​​belong to.\n",
    "#### Of course, before we do all these, we will have to look at the values ​​of the future we will predict and determine which one is more weighted."
   ]
  },
  {
   "cell_type": "code",
   "execution_count": 13,
   "id": "5a8aabd8",
   "metadata": {
    "execution": {
     "iopub.execute_input": "2023-10-18T07:04:09.328043Z",
     "iopub.status.busy": "2023-10-18T07:04:09.327643Z",
     "iopub.status.idle": "2023-10-18T07:04:09.447349Z",
     "shell.execute_reply": "2023-10-18T07:04:09.445422Z"
    },
    "papermill": {
     "duration": 0.140562,
     "end_time": "2023-10-18T07:04:09.452104",
     "exception": false,
     "start_time": "2023-10-18T07:04:09.311542",
     "status": "completed"
    },
    "tags": []
   },
   "outputs": [
    {
     "data": {
      "image/png": "[encoded data removed]",
      "text/plain": [
       "<Figure size 432x288 with 1 Axes>"
      ]
     },
     "metadata": {
      "needs_background": "light"
     },
     "output_type": "display_data"
    }
   ],
   "source": [
    "plt.figure()\n",
    "sns.barplot(data.ALIVE.value_counts().index,data.ALIVE.value_counts().values).set(title=\"ALIVE Future Counts\",xticklabels=([\"Dead\",\"Alive\"]),ylabel=\"Value\")\n",
    "plt.show()"
   ]
  },
  {
   "cell_type": "markdown",
   "id": "b4fe60cc",
   "metadata": {
    "papermill": {
     "duration": 0.014614,
     "end_time": "2023-10-18T07:04:09.505733",
     "exception": false,
     "start_time": "2023-10-18T07:04:09.491119",
     "status": "completed"
    },
    "tags": []
   },
   "source": [
    "<a id =\"22\"></a>\n",
    "* As you can see, this future is dominated by survivors. The alive futures of the values ​​we will find in these 3 futures(INTUBED,PREGNANT and ICU) should be 0-weighted so that our data can become more balanced.\n",
    "* Let's check it out\n",
    "#### We will first look at the INTUBED future."
   ]
  },
  {
   "cell_type": "code",
   "execution_count": 14,
   "id": "1916fed9",
   "metadata": {
    "execution": {
     "iopub.execute_input": "2023-10-18T07:04:09.537318Z",
     "iopub.status.busy": "2023-10-18T07:04:09.536900Z",
     "iopub.status.idle": "2023-10-18T07:04:09.755010Z",
     "shell.execute_reply": "2023-10-18T07:04:09.753743Z"
    },
    "papermill": {
     "duration": 0.23681,
     "end_time": "2023-10-18T07:04:09.757431",
     "exception": false,
     "start_time": "2023-10-18T07:04:09.520621",
     "status": "completed"
    },
    "tags": []
   },
   "outputs": [
    {
     "data": {
      "image/png": "[encoded data removed]",
      "text/plain": [
       "<Figure size 432x288 with 1 Axes>"
      ]
     },
     "metadata": {
      "needs_background": "light"
     },
     "output_type": "display_data"
    }
   ],
   "source": [
    "plt.figure()\n",
    "bar=sns.barplot(x=data.ALIVE[(data.INTUBED==98)].value_counts().index,y=data.ALIVE[(data.INTUBED==98)].value_counts().values)\n",
    "bar.set(title=\"INTUBED null(98) values ​​according to ALIVE\",xticklabels=([\"Dead\",\"Alive\"]),ylabel=\"Count of INTUBED\",xlabel=\"ALIVE\")\n",
    "plt.show()"
   ]
  },
  {
   "cell_type": "markdown",
   "id": "33806b8e",
   "metadata": {
    "papermill": {
     "duration": 0.01499,
     "end_time": "2023-10-18T07:04:09.787925",
     "exception": false,
     "start_time": "2023-10-18T07:04:09.772935",
     "status": "completed"
    },
    "tags": []
   },
   "source": [
    "* This future is predominantly survivors and the number of nulls is high, it cannot positively affect our data, so we can remove it altogether."
   ]
  },
  {
   "cell_type": "code",
   "execution_count": 15,
   "id": "81af4975",
   "metadata": {
    "execution": {
     "iopub.execute_input": "2023-10-18T07:04:09.819867Z",
     "iopub.status.busy": "2023-10-18T07:04:09.819511Z",
     "iopub.status.idle": "2023-10-18T07:04:09.883991Z",
     "shell.execute_reply": "2023-10-18T07:04:09.883046Z"
    },
    "papermill": {
     "duration": 0.082983,
     "end_time": "2023-10-18T07:04:09.886091",
     "exception": false,
     "start_time": "2023-10-18T07:04:09.803108",
     "status": "completed"
    },
    "tags": []
   },
   "outputs": [],
   "source": [
    "data.drop(columns=[\"INTUBED\"],inplace=True)\n",
    "null_or_non_zero_list.remove(\"INTUBED\")"
   ]
  },
  {
   "cell_type": "markdown",
   "id": "c4dab9f4",
   "metadata": {
    "papermill": {
     "duration": 0.014934,
     "end_time": "2023-10-18T07:04:09.916890",
     "exception": false,
     "start_time": "2023-10-18T07:04:09.901956",
     "status": "completed"
    },
    "tags": []
   },
   "source": [
    "#### We made our first future. Let's move on to the next pregnancy future."
   ]
  },
  {
   "cell_type": "markdown",
   "id": "55b25e76",
   "metadata": {
    "papermill": {
     "duration": 0.01471,
     "end_time": "2023-10-18T07:04:09.946599",
     "exception": false,
     "start_time": "2023-10-18T07:04:09.931889",
     "status": "completed"
    },
    "tags": []
   },
   "source": [
    "*  First of all, let's equate the values ​​that are male and null with pregnant values ​​in our data to 0. Because a male cannot get pregnant. :)\n",
    "*  We can't relate to other futures with female pregnant future and null values ​​in our data. At the same time, we can remove these data from our data because they are few in number."
   ]
  },
  {
   "cell_type": "code",
   "execution_count": 16,
   "id": "fa158d4e",
   "metadata": {
    "execution": {
     "iopub.execute_input": "2023-10-18T07:04:09.978811Z",
     "iopub.status.busy": "2023-10-18T07:04:09.978174Z",
     "iopub.status.idle": "2023-10-18T07:04:10.020729Z",
     "shell.execute_reply": "2023-10-18T07:04:10.019500Z"
    },
    "papermill": {
     "duration": 0.061208,
     "end_time": "2023-10-18T07:04:10.022818",
     "exception": false,
     "start_time": "2023-10-18T07:04:09.961610",
     "status": "completed"
    },
    "tags": []
   },
   "outputs": [
    {
     "name": "stdout",
     "output_type": "stream",
     "text": [
      "98    523511\n",
      "Name: PREGNANT, dtype: int64\n"
     ]
    }
   ],
   "source": [
    "print(data.PREGNANT[(data.SEX==0)&(data.PREGNANT==98)].value_counts())\n",
    "data.PREGNANT[(data[\"SEX\"]==0)&(data.PREGNANT==98)]=0"
   ]
  },
  {
   "cell_type": "markdown",
   "id": "82471bd9",
   "metadata": {
    "papermill": {
     "duration": 0.014734,
     "end_time": "2023-10-18T07:04:10.052704",
     "exception": false,
     "start_time": "2023-10-18T07:04:10.037970",
     "status": "completed"
    },
    "tags": []
   },
   "source": [
    "#### The second future is complete. Let's look at the 3rd"
   ]
  },
  {
   "cell_type": "code",
   "execution_count": 17,
   "id": "400be117",
   "metadata": {
    "execution": {
     "iopub.execute_input": "2023-10-18T07:04:10.084687Z",
     "iopub.status.busy": "2023-10-18T07:04:10.084279Z",
     "iopub.status.idle": "2023-10-18T07:04:10.297645Z",
     "shell.execute_reply": "2023-10-18T07:04:10.296694Z"
    },
    "papermill": {
     "duration": 0.232095,
     "end_time": "2023-10-18T07:04:10.299795",
     "exception": false,
     "start_time": "2023-10-18T07:04:10.067700",
     "status": "completed"
    },
    "tags": []
   },
   "outputs": [
    {
     "data": {
      "image/png": "[encoded data removed]",
      "text/plain": [
       "<Figure size 432x288 with 1 Axes>"
      ]
     },
     "metadata": {
      "needs_background": "light"
     },
     "output_type": "display_data"
    }
   ],
   "source": [
    "plt.figure()\n",
    "bar=sns.barplot(x=data.ALIVE[(data.ICU==98)].value_counts().index,y=data.ALIVE[(data.ICU==98)].value_counts().values)\n",
    "bar.set(title=\"ICU null(98) values ​​according to ALIVE\",xticklabels=([\"Dead\",\"Alive\"]),ylabel=\"Count of ICU\",xlabel=\"ALIVE\")\n",
    "plt.show()"
   ]
  },
  {
   "cell_type": "markdown",
   "id": "d1e44e93",
   "metadata": {
    "papermill": {
     "duration": 0.015191,
     "end_time": "2023-10-18T07:04:10.330688",
     "exception": false,
     "start_time": "2023-10-18T07:04:10.315497",
     "status": "completed"
    },
    "tags": []
   },
   "source": [
    "* In this column, the alive values ​​are 1 and there are an average of 800 thousand null values. So we can delete this column completely."
   ]
  },
  {
   "cell_type": "code",
   "execution_count": 18,
   "id": "904ce78b",
   "metadata": {
    "execution": {
     "iopub.execute_input": "2023-10-18T07:04:10.363665Z",
     "iopub.status.busy": "2023-10-18T07:04:10.363028Z",
     "iopub.status.idle": "2023-10-18T07:04:10.422348Z",
     "shell.execute_reply": "2023-10-18T07:04:10.421405Z"
    },
    "papermill": {
     "duration": 0.078508,
     "end_time": "2023-10-18T07:04:10.424694",
     "exception": false,
     "start_time": "2023-10-18T07:04:10.346186",
     "status": "completed"
    },
    "tags": []
   },
   "outputs": [],
   "source": [
    "data.drop(columns=[\"ICU\"],inplace=True)\n",
    "null_or_non_zero_list.remove(\"ICU\")"
   ]
  },
  {
   "cell_type": "markdown",
   "id": "c8ec90d8",
   "metadata": {
    "papermill": {
     "duration": 0.015296,
     "end_time": "2023-10-18T07:04:10.455723",
     "exception": false,
     "start_time": "2023-10-18T07:04:10.440427",
     "status": "completed"
    },
    "tags": []
   },
   "source": [
    "#### Now that we're done with large nulls, let's get rid of low-value nulls."
   ]
  },
  {
   "cell_type": "code",
   "execution_count": 19,
   "id": "87d8861e",
   "metadata": {
    "execution": {
     "iopub.execute_input": "2023-10-18T07:04:10.489281Z",
     "iopub.status.busy": "2023-10-18T07:04:10.488630Z",
     "iopub.status.idle": "2023-10-18T07:04:12.499367Z",
     "shell.execute_reply": "2023-10-18T07:04:12.498159Z"
    },
    "papermill": {
     "duration": 2.03119,
     "end_time": "2023-10-18T07:04:12.502602",
     "exception": false,
     "start_time": "2023-10-18T07:04:10.471412",
     "status": "completed"
    },
    "tags": []
   },
   "outputs": [],
   "source": [
    "for i in null_or_non_zero_list:\n",
    "    data.drop(data[data[i]==98].index,inplace=True)\n",
    "data.reset_index(inplace=True,drop=True)"
   ]
  },
  {
   "cell_type": "markdown",
   "id": "7b7e0256",
   "metadata": {
    "papermill": {
     "duration": 0.015417,
     "end_time": "2023-10-18T07:04:12.544305",
     "exception": false,
     "start_time": "2023-10-18T07:04:12.528888",
     "status": "completed"
    },
    "tags": []
   },
   "source": [
    "<a id =\"4\"></a>\n",
    "# Data Visualization"
   ]
  },
  {
   "cell_type": "markdown",
   "id": "2159ba7e",
   "metadata": {
    "papermill": {
     "duration": 0.01559,
     "end_time": "2023-10-18T07:04:12.575558",
     "exception": false,
     "start_time": "2023-10-18T07:04:12.559968",
     "status": "completed"
    },
    "tags": []
   },
   "source": [
    "#### Let's compare some futures by survival"
   ]
  },
  {
   "cell_type": "code",
   "execution_count": 20,
   "id": "d8aa1fc5",
   "metadata": {
    "execution": {
     "iopub.execute_input": "2023-10-18T07:04:12.609184Z",
     "iopub.status.busy": "2023-10-18T07:04:12.608781Z",
     "iopub.status.idle": "2023-10-18T07:04:18.341573Z",
     "shell.execute_reply": "2023-10-18T07:04:18.340464Z"
    },
    "papermill": {
     "duration": 5.752197,
     "end_time": "2023-10-18T07:04:18.343963",
     "exception": false,
     "start_time": "2023-10-18T07:04:12.591766",
     "status": "completed"
    },
    "tags": []
   },
   "outputs": [
    {
     "data": {
      "image/png": "[encoded data removed]",
      "text/plain": [
       "<Figure size 720x360 with 1 Axes>"
      ]
     },
     "metadata": {
      "needs_background": "light"
     },
     "output_type": "display_data"
    }
   ],
   "source": [
    "plt.figure(figsize=(10,5))\n",
    "sns.histplot(x=data.AGE,hue=data.ALIVE,legend=True,palette=[\"red\",\"green\"],kde=True).set(title=\"Number of survivors and deaths by age\")\n",
    "plt.show()"
   ]
  },
  {
   "cell_type": "markdown",
   "id": "70a1fdc4",
   "metadata": {
    "papermill": {
     "duration": 0.018484,
     "end_time": "2023-10-18T07:04:18.378878",
     "exception": false,
     "start_time": "2023-10-18T07:04:18.360394",
     "status": "completed"
    },
    "tags": []
   },
   "source": [
    "* Since the data is unbalanced, the number of survivors is higher, but we can understand from that the average age of the deceased is higher than the survivors."
   ]
  },
  {
   "cell_type": "code",
   "execution_count": 21,
   "id": "80fd2e3b",
   "metadata": {
    "execution": {
     "iopub.execute_input": "2023-10-18T07:04:18.429176Z",
     "iopub.status.busy": "2023-10-18T07:04:18.428528Z",
     "iopub.status.idle": "2023-10-18T07:04:18.872961Z",
     "shell.execute_reply": "2023-10-18T07:04:18.872152Z"
    },
    "papermill": {
     "duration": 0.472748,
     "end_time": "2023-10-18T07:04:18.875323",
     "exception": false,
     "start_time": "2023-10-18T07:04:18.402575",
     "status": "completed"
    },
    "tags": []
   },
   "outputs": [
    {
     "data": {
      "image/png": "[encoded data removed]",
      "text/plain": [
       "<Figure size 576x360 with 1 Axes>"
      ]
     },
     "metadata": {
      "needs_background": "light"
     },
     "output_type": "display_data"
    }
   ],
   "source": [
    "plt.figure(figsize=(8,5))\n",
    "sns.countplot(x=data.MEDICAL_UNIT,hue=data.ALIVE,palette=[\"red\",\"green\"]).set(title=\"Number of dead or living patients who went to different medical units\")\n",
    "plt.show()"
   ]
  },
  {
   "cell_type": "markdown",
   "id": "66bf10c0",
   "metadata": {
    "papermill": {
     "duration": 0.016282,
     "end_time": "2023-10-18T07:04:18.908271",
     "exception": false,
     "start_time": "2023-10-18T07:04:18.891989",
     "status": "completed"
    },
    "tags": []
   },
   "source": [
    "* As can be seen from the patients who went to medical units 4 and 12, as the medical unit improves, survival rates increase and deaths decrease.(etc. 4= Cottage hospital, 12= Hospital)"
   ]
  },
  {
   "cell_type": "code",
   "execution_count": 22,
   "id": "c42fd583",
   "metadata": {
    "execution": {
     "iopub.execute_input": "2023-10-18T07:04:18.943197Z",
     "iopub.status.busy": "2023-10-18T07:04:18.942143Z",
     "iopub.status.idle": "2023-10-18T07:04:19.704454Z",
     "shell.execute_reply": "2023-10-18T07:04:19.703337Z"
    },
    "papermill": {
     "duration": 0.782294,
     "end_time": "2023-10-18T07:04:19.706882",
     "exception": false,
     "start_time": "2023-10-18T07:04:18.924588",
     "status": "completed"
    },
    "tags": []
   },
   "outputs": [
    {
     "data": {
      "image/png": "[encoded data removed]",
      "text/plain": [
       "<Figure size 864x432 with 1 Axes>"
      ]
     },
     "metadata": {
      "needs_background": "light"
     },
     "output_type": "display_data"
    }
   ],
   "source": [
    "plt.figure(figsize=(12,6))\n",
    "sns.boxplot(x=data.MEDICAL_UNIT,y=data.AGE,hue=data.ALIVE,palette=[\"red\",\"green\"]).set(title=\"Distribution of patients who went to medical units by age\")\n",
    "plt.show()"
   ]
  },
  {
   "cell_type": "markdown",
   "id": "474a38bc",
   "metadata": {
    "papermill": {
     "duration": 0.016458,
     "end_time": "2023-10-18T07:04:19.740388",
     "exception": false,
     "start_time": "2023-10-18T07:04:19.723930",
     "status": "completed"
    },
    "tags": []
   },
   "source": [
    "* The median values ​​of people who died and lived, who went to different medical units, do not change that much. Here we see that survival is proportional to age."
   ]
  },
  {
   "cell_type": "code",
   "execution_count": 23,
   "id": "53124387",
   "metadata": {
    "execution": {
     "iopub.execute_input": "2023-10-18T07:04:19.775866Z",
     "iopub.status.busy": "2023-10-18T07:04:19.774825Z",
     "iopub.status.idle": "2023-10-18T07:04:20.106774Z",
     "shell.execute_reply": "2023-10-18T07:04:20.105916Z"
    },
    "papermill": {
     "duration": 0.351687,
     "end_time": "2023-10-18T07:04:20.108704",
     "exception": false,
     "start_time": "2023-10-18T07:04:19.757017",
     "status": "completed"
    },
    "tags": []
   },
   "outputs": [
    {
     "data": {
      "image/png": "[encoded data removed]",
      "text/plain": [
       "<Figure size 432x288 with 1 Axes>"
      ]
     },
     "metadata": {
      "needs_background": "light"
     },
     "output_type": "display_data"
    }
   ],
   "source": [
    "plt.figure()\n",
    "sns.countplot(x=data.INFECTED,hue=data.ALIVE,palette=[\"red\",\"green\"]).set(title=\"survival and death rates of infected patients\")\n",
    "plt.show()"
   ]
  },
  {
   "cell_type": "markdown",
   "id": "218debd1",
   "metadata": {
    "papermill": {
     "duration": 0.016839,
     "end_time": "2023-10-18T07:04:20.142776",
     "exception": false,
     "start_time": "2023-10-18T07:04:20.125937",
     "status": "completed"
    },
    "tags": []
   },
   "source": [
    "* In this graph, we see that the chance of dying of an infected person is higher than a healthy person."
   ]
  },
  {
   "cell_type": "code",
   "execution_count": 24,
   "id": "639c4dfd",
   "metadata": {
    "execution": {
     "iopub.execute_input": "2023-10-18T07:04:20.179753Z",
     "iopub.status.busy": "2023-10-18T07:04:20.179049Z",
     "iopub.status.idle": "2023-10-18T07:04:20.524692Z",
     "shell.execute_reply": "2023-10-18T07:04:20.523566Z"
    },
    "papermill": {
     "duration": 0.367207,
     "end_time": "2023-10-18T07:04:20.527042",
     "exception": false,
     "start_time": "2023-10-18T07:04:20.159835",
     "status": "completed"
    },
    "tags": []
   },
   "outputs": [
    {
     "data": {
      "image/png": "[encoded data removed]",
      "text/plain": [
       "<Figure size 432x288 with 1 Axes>"
      ]
     },
     "metadata": {
      "needs_background": "light"
     },
     "output_type": "display_data"
    }
   ],
   "source": [
    "plt.figure()\n",
    "sns.countplot(x=data.PATIENT_TYPE,hue=data.ALIVE,palette=[\"red\",\"green\"]).set(title=\"survival rates of hospitalized and non-hospitalized people\")\n",
    "plt.show()"
   ]
  },
  {
   "cell_type": "markdown",
   "id": "202ddc0f",
   "metadata": {
    "papermill": {
     "duration": 0.017712,
     "end_time": "2023-10-18T07:04:20.563474",
     "exception": false,
     "start_time": "2023-10-18T07:04:20.545762",
     "status": "completed"
    },
    "tags": []
   },
   "source": [
    "* People who are hospitalized have a higher chance of survival"
   ]
  },
  {
   "cell_type": "code",
   "execution_count": 25,
   "id": "0b55e6d0",
   "metadata": {
    "execution": {
     "iopub.execute_input": "2023-10-18T07:04:20.600579Z",
     "iopub.status.busy": "2023-10-18T07:04:20.599791Z",
     "iopub.status.idle": "2023-10-18T07:04:20.937330Z",
     "shell.execute_reply": "2023-10-18T07:04:20.936122Z"
    },
    "papermill": {
     "duration": 0.358426,
     "end_time": "2023-10-18T07:04:20.939458",
     "exception": false,
     "start_time": "2023-10-18T07:04:20.581032",
     "status": "completed"
    },
    "tags": []
   },
   "outputs": [
    {
     "data": {
      "image/png": "[encoded data removed]",
      "text/plain": [
       "<Figure size 432x288 with 1 Axes>"
      ]
     },
     "metadata": {
      "needs_background": "light"
     },
     "output_type": "display_data"
    }
   ],
   "source": [
    "plt.figure()\n",
    "sns.countplot(x=data.PNEUMONIA,hue=data.ALIVE,palette=[\"red\",\"green\"]).set(title=\"Survival and death rates of people with and without pneumonia\")\n",
    "plt.show()"
   ]
  },
  {
   "cell_type": "markdown",
   "id": "9b1d6deb",
   "metadata": {
    "papermill": {
     "duration": 0.017368,
     "end_time": "2023-10-18T07:04:20.974728",
     "exception": false,
     "start_time": "2023-10-18T07:04:20.957360",
     "status": "completed"
    },
    "tags": []
   },
   "source": [
    "* People with pneumonia have an average chance of dying with an older person."
   ]
  },
  {
   "cell_type": "markdown",
   "id": "97aaa4fc",
   "metadata": {
    "papermill": {
     "duration": 0.017316,
     "end_time": "2023-10-18T07:04:21.009459",
     "exception": false,
     "start_time": "2023-10-18T07:04:20.992143",
     "status": "completed"
    },
    "tags": []
   },
   "source": []
  },
  {
   "cell_type": "code",
   "execution_count": 26,
   "id": "103f0d63",
   "metadata": {
    "execution": {
     "iopub.execute_input": "2023-10-18T07:04:21.046374Z",
     "iopub.status.busy": "2023-10-18T07:04:21.045946Z",
     "iopub.status.idle": "2023-10-18T07:04:23.957812Z",
     "shell.execute_reply": "2023-10-18T07:04:23.956942Z"
    },
    "papermill": {
     "duration": 2.934547,
     "end_time": "2023-10-18T07:04:23.961479",
     "exception": false,
     "start_time": "2023-10-18T07:04:21.026932",
     "status": "completed"
    },
    "tags": []
   },
   "outputs": [
    {
     "data": {
      "image/png": "[encoded data removed]",
      "text/plain": [
       "<Figure size 1296x1080 with 2 Axes>"
      ]
     },
     "metadata": {
      "needs_background": "light"
     },
     "output_type": "display_data"
    }
   ],
   "source": [
    "plt.figure(figsize=(18,15))\n",
    "sns.heatmap(data.corr(),annot=True, fmt=\".2f\")\n",
    "plt.show()"
   ]
  },
  {
   "cell_type": "markdown",
   "id": "0ba2626e",
   "metadata": {
    "papermill": {
     "duration": 0.023085,
     "end_time": "2023-10-18T07:04:24.007079",
     "exception": false,
     "start_time": "2023-10-18T07:04:23.983994",
     "status": "completed"
    },
    "tags": []
   },
   "source": [
    "<a id =\"5\"></a>\n",
    "# Final checks and preparing data"
   ]
  },
  {
   "cell_type": "markdown",
   "id": "6e24a8d1",
   "metadata": {
    "papermill": {
     "duration": 0.020514,
     "end_time": "2023-10-18T07:04:24.048657",
     "exception": false,
     "start_time": "2023-10-18T07:04:24.028143",
     "status": "completed"
    },
    "tags": []
   },
   "source": [
    "<a id =\"6\"></a>\n",
    "## Check futures"
   ]
  },
  {
   "cell_type": "markdown",
   "id": "4683ce5c",
   "metadata": {
    "papermill": {
     "duration": 0.020625,
     "end_time": "2023-10-18T07:04:24.090278",
     "exception": false,
     "start_time": "2023-10-18T07:04:24.069653",
     "status": "completed"
    },
    "tags": []
   },
   "source": []
  },
  {
   "cell_type": "code",
   "execution_count": 27,
   "id": "9ffc5ad1",
   "metadata": {
    "execution": {
     "iopub.execute_input": "2023-10-18T07:04:24.134640Z",
     "iopub.status.busy": "2023-10-18T07:04:24.133473Z",
     "iopub.status.idle": "2023-10-18T07:04:24.172469Z",
     "shell.execute_reply": "2023-10-18T07:04:24.171149Z"
    },
    "papermill": {
     "duration": 0.062918,
     "end_time": "2023-10-18T07:04:24.174618",
     "exception": false,
     "start_time": "2023-10-18T07:04:24.111700",
     "status": "completed"
    },
    "tags": []
   },
   "outputs": [
    {
     "name": "stdout",
     "output_type": "stream",
     "text": [
      "<class 'pandas.core.frame.DataFrame'>\n",
      "RangeIndex: 1021977 entries, 0 to 1021976\n",
      "Data columns (total 19 columns):\n",
      " #   Column          Non-Null Count    Dtype\n",
      "---  ------          --------------    -----\n",
      " 0   USMER           1021977 non-null  int64\n",
      " 1   MEDICAL_UNIT    1021977 non-null  int64\n",
      " 2   SEX             1021977 non-null  int64\n",
      " 3   PATIENT_TYPE    1021977 non-null  int64\n",
      " 4   PNEUMONIA       1021977 non-null  int64\n",
      " 5   AGE             1021977 non-null  int64\n",
      " 6   PREGNANT        1021977 non-null  int64\n",
      " 7   DIABETES        1021977 non-null  int64\n",
      " 8   COPD            1021977 non-null  int64\n",
      " 9   ASTHMA          1021977 non-null  int64\n",
      " 10  INMSUPR         1021977 non-null  int64\n",
      " 11  HIPERTENSION    1021977 non-null  int64\n",
      " 12  OTHER_DISEASE   1021977 non-null  int64\n",
      " 13  CARDIOVASCULAR  1021977 non-null  int64\n",
      " 14  OBESITY         1021977 non-null  int64\n",
      " 15  RENAL_CHRONIC   1021977 non-null  int64\n",
      " 16  TOBACCO         1021977 non-null  int64\n",
      " 17  ALIVE           1021977 non-null  int64\n",
      " 18  INFECTED        1021977 non-null  int64\n",
      "dtypes: int64(19)\n",
      "memory usage: 148.1 MB\n"
     ]
    }
   ],
   "source": [
    "data.info()"
   ]
  },
  {
   "cell_type": "code",
   "execution_count": 28,
   "id": "7d1d0d01",
   "metadata": {
    "execution": {
     "iopub.execute_input": "2023-10-18T07:04:24.217947Z",
     "iopub.status.busy": "2023-10-18T07:04:24.217598Z",
     "iopub.status.idle": "2023-10-18T07:04:24.338009Z",
     "shell.execute_reply": "2023-10-18T07:04:24.336758Z"
    },
    "papermill": {
     "duration": 0.144718,
     "end_time": "2023-10-18T07:04:24.340865",
     "exception": false,
     "start_time": "2023-10-18T07:04:24.196147",
     "status": "completed"
    },
    "tags": []
   },
   "outputs": [
    {
     "name": "stdout",
     "output_type": "stream",
     "text": [
      "0    656118\n",
      "1    365859\n",
      "Name: USMER, dtype: int64\n",
      "\n",
      "\n",
      "12    589209\n",
      "4     306967\n",
      "6      37791\n",
      "9      37142\n",
      "3      18646\n",
      "8      10091\n",
      "10      7538\n",
      "5       7049\n",
      "11      5553\n",
      "7        870\n",
      "13       811\n",
      "2        159\n",
      "1        151\n",
      "Name: MEDICAL_UNIT, dtype: int64\n",
      "\n",
      "\n",
      "0    511936\n",
      "1    510041\n",
      "Name: SEX, dtype: int64\n",
      "\n",
      "\n",
      "1    830385\n",
      "0    191592\n",
      "Name: PATIENT_TYPE, dtype: int64\n",
      "\n",
      "\n",
      "0    884614\n",
      "1    137363\n",
      "Name: PNEUMONIA, dtype: int64\n",
      "\n",
      "\n",
      "30     26456\n",
      "31     25419\n",
      "28     24735\n",
      "29     24595\n",
      "34     24406\n",
      "       ...  \n",
      "115        2\n",
      "119        2\n",
      "111        1\n",
      "121        1\n",
      "113        1\n",
      "Name: AGE, Length: 121, dtype: int64\n",
      "\n",
      "\n",
      "0    1014136\n",
      "1       7841\n",
      "Name: PREGNANT, dtype: int64\n",
      "\n",
      "\n",
      "0    899805\n",
      "1    122172\n",
      "Name: DIABETES, dtype: int64\n",
      "\n",
      "\n",
      "0    1007619\n",
      "1      14358\n",
      "Name: COPD, dtype: int64\n",
      "\n",
      "\n",
      "0    991561\n",
      "1     30416\n",
      "Name: ASTHMA, dtype: int64\n",
      "\n",
      "\n",
      "0    1008419\n",
      "1      13558\n",
      "Name: INMSUPR, dtype: int64\n",
      "\n",
      "\n",
      "0    862715\n",
      "1    159262\n",
      "Name: HIPERTENSION, dtype: int64\n",
      "\n",
      "\n",
      "0    994893\n",
      "1     27084\n",
      "Name: OTHER_DISEASE, dtype: int64\n",
      "\n",
      "\n",
      "0    1001891\n",
      "1      20086\n",
      "Name: CARDIOVASCULAR, dtype: int64\n",
      "\n",
      "\n",
      "0    865383\n",
      "1    156594\n",
      "Name: OBESITY, dtype: int64\n",
      "\n",
      "\n",
      "0    1003657\n",
      "1      18320\n",
      "Name: RENAL_CHRONIC, dtype: int64\n",
      "\n",
      "\n",
      "0    939439\n",
      "1     82538\n",
      "Name: TOBACCO, dtype: int64\n",
      "\n",
      "\n",
      "1    947320\n",
      "0     74657\n",
      "Name: ALIVE, dtype: int64\n",
      "\n",
      "\n",
      "0    634381\n",
      "1    387596\n",
      "Name: INFECTED, dtype: int64\n",
      "\n",
      "\n"
     ]
    }
   ],
   "source": [
    "for i in data.columns:\n",
    "    print(data[i].value_counts())\n",
    "    print(\"\\n\")"
   ]
  },
  {
   "cell_type": "markdown",
   "id": "f2ef2258",
   "metadata": {
    "papermill": {
     "duration": 0.020204,
     "end_time": "2023-10-18T07:04:24.382403",
     "exception": false,
     "start_time": "2023-10-18T07:04:24.362199",
     "status": "completed"
    },
    "tags": []
   },
   "source": []
  },
  {
   "cell_type": "markdown",
   "id": "f5c1e7b9",
   "metadata": {
    "papermill": {
     "duration": 0.020268,
     "end_time": "2023-10-18T07:04:24.423510",
     "exception": false,
     "start_time": "2023-10-18T07:04:24.403242",
     "status": "completed"
    },
    "tags": []
   },
   "source": [
    "<a id =\"7\"></a>\n",
    "## Scaling Data\n",
    "#### There are 2 futures (MEDICAL_UNIT and AGE) without logic in our data. Let's normalize them and prepare our data."
   ]
  },
  {
   "cell_type": "code",
   "execution_count": 29,
   "id": "74d3f04d",
   "metadata": {
    "execution": {
     "iopub.execute_input": "2023-10-18T07:04:24.467461Z",
     "iopub.status.busy": "2023-10-18T07:04:24.467100Z",
     "iopub.status.idle": "2023-10-18T07:04:24.637527Z",
     "shell.execute_reply": "2023-10-18T07:04:24.636595Z"
    },
    "papermill": {
     "duration": 0.195274,
     "end_time": "2023-10-18T07:04:24.639945",
     "exception": false,
     "start_time": "2023-10-18T07:04:24.444671",
     "status": "completed"
    },
    "tags": []
   },
   "outputs": [],
   "source": [
    "\"\"\"normalize_list=[\"AGE\",\"MEDICAL_UNIT\"]\n",
    "for i in normalize_list:\n",
    "    data[i]=(data[i]-np.min(data[i]))/(np.max(data[i])-np.min(data[i]))\"\"\"\n",
    "  \n",
    "scaler = RobustScaler()\n",
    "data.AGE = scaler.fit_transform(data.AGE.values.reshape(-1,1))\n",
    "data.MEDICAL_UNIT=scaler.fit_transform(data.MEDICAL_UNIT.values.reshape(-1,1))"
   ]
  },
  {
   "cell_type": "markdown",
   "id": "152ad757",
   "metadata": {
    "papermill": {
     "duration": 0.02099,
     "end_time": "2023-10-18T07:04:24.682074",
     "exception": false,
     "start_time": "2023-10-18T07:04:24.661084",
     "status": "completed"
    },
    "tags": []
   },
   "source": [
    "*  The robustscaler function makes better distinctions to the machine learning algorithm than the normalization above. You can try."
   ]
  },
  {
   "cell_type": "markdown",
   "id": "51c6a391",
   "metadata": {
    "papermill": {
     "duration": 0.020747,
     "end_time": "2023-10-18T07:04:24.723830",
     "exception": false,
     "start_time": "2023-10-18T07:04:24.703083",
     "status": "completed"
    },
    "tags": []
   },
   "source": [
    "<a id =\"8\"></a>\n",
    "## Separating labels and futures"
   ]
  },
  {
   "cell_type": "code",
   "execution_count": 30,
   "id": "7a48ebe4",
   "metadata": {
    "execution": {
     "iopub.execute_input": "2023-10-18T07:04:24.767474Z",
     "iopub.status.busy": "2023-10-18T07:04:24.766818Z",
     "iopub.status.idle": "2023-10-18T07:04:24.826857Z",
     "shell.execute_reply": "2023-10-18T07:04:24.825582Z"
    },
    "papermill": {
     "duration": 0.085228,
     "end_time": "2023-10-18T07:04:24.829655",
     "exception": false,
     "start_time": "2023-10-18T07:04:24.744427",
     "status": "completed"
    },
    "tags": []
   },
   "outputs": [],
   "source": [
    "x=data.drop(columns=\"ALIVE\")\n",
    "y=data.ALIVE"
   ]
  },
  {
   "cell_type": "markdown",
   "id": "35359767",
   "metadata": {
    "papermill": {
     "duration": 0.021389,
     "end_time": "2023-10-18T07:04:24.872624",
     "exception": false,
     "start_time": "2023-10-18T07:04:24.851235",
     "status": "completed"
    },
    "tags": []
   },
   "source": [
    "<a id =\"9\"></a>\n",
    "# Train test splits and get balance the data"
   ]
  },
  {
   "cell_type": "markdown",
   "id": "601ff88e",
   "metadata": {
    "papermill": {
     "duration": 0.02089,
     "end_time": "2023-10-18T07:04:24.914682",
     "exception": false,
     "start_time": "2023-10-18T07:04:24.893792",
     "status": "completed"
    },
    "tags": []
   },
   "source": [
    "## Two different methods can be used here to balance the data. Either we multiply those with alive values ​​of 0, or we balance those with a alive value of 1 with 0."
   ]
  },
  {
   "cell_type": "code",
   "execution_count": 31,
   "id": "8de5f500",
   "metadata": {
    "execution": {
     "iopub.execute_input": "2023-10-18T07:04:24.959628Z",
     "iopub.status.busy": "2023-10-18T07:04:24.958792Z",
     "iopub.status.idle": "2023-10-18T07:04:25.364146Z",
     "shell.execute_reply": "2023-10-18T07:04:25.362993Z"
    },
    "papermill": {
     "duration": 0.430345,
     "end_time": "2023-10-18T07:04:25.366634",
     "exception": false,
     "start_time": "2023-10-18T07:04:24.936289",
     "status": "completed"
    },
    "tags": []
   },
   "outputs": [],
   "source": [
    "#x_train,x_test,y_train,y_test=train_test_split(x,y,test_size=0.2,random_state=42)\n",
    "\n",
    "\"\"\"ros=RandomOverSampler(random_state=42)\n",
    "x_ros,y_ros=ros.fit_resample(x, y)\n",
    "x_train,x_test,y_train,y_test=train_test_split(x_ros,y_ros,test_size=0.2,random_state=42)\"\"\"\n",
    "\n",
    "rus=RandomUnderSampler(random_state=42)\n",
    "x_rus,y_rus=rus.fit_resample(x, y)\n",
    "x_train,x_test,y_train,y_test=train_test_split(x_rus,y_rus,test_size=0.2,random_state=42)"
   ]
  },
  {
   "cell_type": "code",
   "execution_count": 32,
   "id": "0381aa3a",
   "metadata": {
    "execution": {
     "iopub.execute_input": "2023-10-18T07:04:25.411741Z",
     "iopub.status.busy": "2023-10-18T07:04:25.411381Z",
     "iopub.status.idle": "2023-10-18T07:04:25.583460Z",
     "shell.execute_reply": "2023-10-18T07:04:25.582424Z"
    },
    "papermill": {
     "duration": 0.197376,
     "end_time": "2023-10-18T07:04:25.585787",
     "exception": false,
     "start_time": "2023-10-18T07:04:25.388411",
     "status": "completed"
    },
    "tags": []
   },
   "outputs": [
    {
     "data": {
      "image/png": "[encoded data removed]",
      "text/plain": [
       "<Figure size 432x288 with 1 Axes>"
      ]
     },
     "metadata": {
      "needs_background": "light"
     },
     "output_type": "display_data"
    }
   ],
   "source": [
    "plt.figure()\n",
    "sns.barplot(y_rus.value_counts().index,y_rus.value_counts().values).set(title=\"ALIVE Future Counts\",xticklabels=([\"Dead\",\"Alive\"]),ylabel=\"Value\")\n",
    "plt.show()"
   ]
  },
  {
   "cell_type": "markdown",
   "id": "b169cd0d",
   "metadata": {
    "papermill": {
     "duration": 0.020893,
     "end_time": "2023-10-18T07:04:25.628478",
     "exception": false,
     "start_time": "2023-10-18T07:04:25.607585",
     "status": "completed"
    },
    "tags": []
   },
   "source": [
    "<a id =\"10\"></a>\n",
    "# Machine Learning"
   ]
  },
  {
   "cell_type": "markdown",
   "id": "5b8babea",
   "metadata": {
    "papermill": {
     "duration": 0.02097,
     "end_time": "2023-10-18T07:04:25.670661",
     "exception": false,
     "start_time": "2023-10-18T07:04:25.649691",
     "status": "completed"
    },
    "tags": []
   },
   "source": [
    "<a id =\"11\"></a>\n",
    "### Logistic Regression"
   ]
  },
  {
   "cell_type": "code",
   "execution_count": 33,
   "id": "f15d5a14",
   "metadata": {
    "execution": {
     "iopub.execute_input": "2023-10-18T07:04:25.715272Z",
     "iopub.status.busy": "2023-10-18T07:04:25.714787Z",
     "iopub.status.idle": "2023-10-18T07:04:26.426036Z",
     "shell.execute_reply": "2023-10-18T07:04:26.424380Z"
    },
    "papermill": {
     "duration": 0.73878,
     "end_time": "2023-10-18T07:04:26.430714",
     "exception": false,
     "start_time": "2023-10-18T07:04:25.691934",
     "status": "completed"
    },
    "tags": []
   },
   "outputs": [
    {
     "name": "stdout",
     "output_type": "stream",
     "text": [
      "Logistic Regression Accuracy:  0.9049994977061916\n"
     ]
    }
   ],
   "source": [
    "lr = LogisticRegression()\n",
    "lr.fit(x_train,y_train)\n",
    "print(\"Logistic Regression Accuracy: \",lr.score(x_test,y_test))"
   ]
  },
  {
   "cell_type": "code",
   "execution_count": 34,
   "id": "da20768c",
   "metadata": {
    "execution": {
     "iopub.execute_input": "2023-10-18T07:04:26.542623Z",
     "iopub.status.busy": "2023-10-18T07:04:26.542270Z",
     "iopub.status.idle": "2023-10-18T07:04:26.820503Z",
     "shell.execute_reply": "2023-10-18T07:04:26.819417Z"
    },
    "papermill": {
     "duration": 0.331469,
     "end_time": "2023-10-18T07:04:26.822646",
     "exception": false,
     "start_time": "2023-10-18T07:04:26.491177",
     "status": "completed"
    },
    "tags": []
   },
   "outputs": [
    {
     "name": "stdout",
     "output_type": "stream",
     "text": [
      "Logistic Regression F1 Score:  [0.90604405 0.90393146]\n",
      "Logistic Regression R2 Score:  0.6199949121742289\n"
     ]
    },
    {
     "data": {
      "image/png": "[encoded data removed]",
      "text/plain": [
       "<Figure size 432x288 with 2 Axes>"
      ]
     },
     "metadata": {
      "needs_background": "light"
     },
     "output_type": "display_data"
    }
   ],
   "source": [
    "print(\"Logistic Regression F1 Score: \",f1_score(y_test,lr.predict(x_test),average=None))\n",
    "print(\"Logistic Regression R2 Score: \",r2_score(y_test,lr.predict(x_test)))\n",
    "plt.figure()\n",
    "sns.heatmap(confusion_matrix(y_test, lr.predict(x_test)), annot=True, fmt=\".0f\")\n",
    "plt.title(\"Logistic Regression Confusion Matrix\",fontsize=18, color=\"b\")\n",
    "plt.show()"
   ]
  },
  {
   "cell_type": "markdown",
   "id": "22c82697",
   "metadata": {
    "papermill": {
     "duration": 0.021358,
     "end_time": "2023-10-18T07:04:26.865921",
     "exception": false,
     "start_time": "2023-10-18T07:04:26.844563",
     "status": "completed"
    },
    "tags": []
   },
   "source": [
    "<a id =\"12\"></a>\n",
    "### KNN"
   ]
  },
  {
   "cell_type": "code",
   "execution_count": 35,
   "id": "b0fc22a0",
   "metadata": {
    "execution": {
     "iopub.execute_input": "2023-10-18T07:04:26.911261Z",
     "iopub.status.busy": "2023-10-18T07:04:26.910825Z",
     "iopub.status.idle": "2023-10-18T07:04:26.915399Z",
     "shell.execute_reply": "2023-10-18T07:04:26.914268Z"
    },
    "papermill": {
     "duration": 0.029739,
     "end_time": "2023-10-18T07:04:26.917333",
     "exception": false,
     "start_time": "2023-10-18T07:04:26.887594",
     "status": "completed"
    },
    "tags": []
   },
   "outputs": [],
   "source": [
    "#n=3\n",
    "#knn=KNeighborsClassifier(n_neighbors=n,n_jobs=-1)\n",
    "#knn.fit(x_train,y_train)\n",
    "#prediction=knn.predict(x_test)\n",
    "#print(\"{}nn Score: {}\".format(n,knn.score(x_test,y_test)))\n",
    "#print(\"KNN F1 Score: \",f1_score(y_test,knn.predict(x_test),average=None))\n",
    "#print(\"KNN R2 Score: \",r2_score(y_test,knn.predict(x_test)))"
   ]
  },
  {
   "cell_type": "markdown",
   "id": "535e5410",
   "metadata": {
    "papermill": {
     "duration": 0.021388,
     "end_time": "2023-10-18T07:04:26.960390",
     "exception": false,
     "start_time": "2023-10-18T07:04:26.939002",
     "status": "completed"
    },
    "tags": []
   },
   "source": [
    "* if you dont want to wait here is knn results;\n",
    "\n",
    "* 3nn Score: 0.8955228878545357\n",
    "* KNN F1 Score:  [0.89728733 0.89369676]\n",
    "* KNN R2 Score:  0.5820881656621762"
   ]
  },
  {
   "cell_type": "markdown",
   "id": "aee6faff",
   "metadata": {
    "papermill": {
     "duration": 0.021389,
     "end_time": "2023-10-18T07:04:27.003572",
     "exception": false,
     "start_time": "2023-10-18T07:04:26.982183",
     "status": "completed"
    },
    "tags": []
   },
   "source": [
    "<a id =\"13\"></a>\n",
    "### Decision Tree"
   ]
  },
  {
   "cell_type": "code",
   "execution_count": 36,
   "id": "88677568",
   "metadata": {
    "execution": {
     "iopub.execute_input": "2023-10-18T07:04:27.049658Z",
     "iopub.status.busy": "2023-10-18T07:04:27.048892Z",
     "iopub.status.idle": "2023-10-18T07:04:27.446487Z",
     "shell.execute_reply": "2023-10-18T07:04:27.445286Z"
    },
    "papermill": {
     "duration": 0.422787,
     "end_time": "2023-10-18T07:04:27.448763",
     "exception": false,
     "start_time": "2023-10-18T07:04:27.025976",
     "status": "completed"
    },
    "tags": []
   },
   "outputs": [
    {
     "name": "stdout",
     "output_type": "stream",
     "text": [
      "Decision Tree Score:  0.8843384790543481\n",
      "Decision Tree F1 Score:  [0.8861794  0.88243703]\n",
      "Decision Tree R2 Score:  0.5373501680119093\n"
     ]
    }
   ],
   "source": [
    "dt=DecisionTreeClassifier(random_state=42)\n",
    "dt.fit(x_train,y_train)\n",
    "print(\"Decision Tree Score: \",dt.score(x_test,y_test))\n",
    "print(\"Decision Tree F1 Score: \",f1_score(y_test,dt.predict(x_test),average=None))\n",
    "print(\"Decision Tree R2 Score: \",r2_score(y_test,dt.predict(x_test)))"
   ]
  },
  {
   "cell_type": "markdown",
   "id": "d2162043",
   "metadata": {
    "papermill": {
     "duration": 0.021417,
     "end_time": "2023-10-18T07:04:27.491895",
     "exception": false,
     "start_time": "2023-10-18T07:04:27.470478",
     "status": "completed"
    },
    "tags": []
   },
   "source": [
    "<a id =\"14\"></a>\n",
    "### Random Forest"
   ]
  },
  {
   "cell_type": "code",
   "execution_count": 37,
   "id": "a5d779fe",
   "metadata": {
    "execution": {
     "iopub.execute_input": "2023-10-18T07:04:27.537674Z",
     "iopub.status.busy": "2023-10-18T07:04:27.536642Z",
     "iopub.status.idle": "2023-10-18T07:04:28.062388Z",
     "shell.execute_reply": "2023-10-18T07:04:28.061073Z"
    },
    "papermill": {
     "duration": 0.551134,
     "end_time": "2023-10-18T07:04:28.064805",
     "exception": false,
     "start_time": "2023-10-18T07:04:27.513671",
     "status": "completed"
    },
    "tags": []
   },
   "outputs": [
    {
     "name": "stdout",
     "output_type": "stream",
     "text": [
      "Random Forest Score:  0.8939155476676824\n",
      "Random Forest F1 Score:  [0.89694209 0.89070586]\n",
      "Random Forest R2 Score:  0.5756587528262098\n"
     ]
    }
   ],
   "source": [
    "rf=RandomForestClassifier(n_estimators=4,random_state=42)\n",
    "rf.fit(x_train,y_train)\n",
    "print(\"Random Forest Score: \",rf.score(x_test,y_test))\n",
    "print(\"Random Forest F1 Score: \",f1_score(y_test,rf.predict(x_test),average=None))\n",
    "print(\"Random Forest R2 Score: \",r2_score(y_test,rf.predict(x_test)))"
   ]
  },
  {
   "cell_type": "markdown",
   "id": "acc6af08",
   "metadata": {
    "papermill": {
     "duration": 0.022488,
     "end_time": "2023-10-18T07:04:28.110255",
     "exception": false,
     "start_time": "2023-10-18T07:04:28.087767",
     "status": "completed"
    },
    "tags": []
   },
   "source": [
    "<a id =\"15\"></a>\n",
    "### Naive Base"
   ]
  },
  {
   "cell_type": "code",
   "execution_count": 38,
   "id": "90d301b4",
   "metadata": {
    "execution": {
     "iopub.execute_input": "2023-10-18T07:04:28.157445Z",
     "iopub.status.busy": "2023-10-18T07:04:28.156904Z",
     "iopub.status.idle": "2023-10-18T07:04:28.256316Z",
     "shell.execute_reply": "2023-10-18T07:04:28.255117Z"
    },
    "papermill": {
     "duration": 0.126049,
     "end_time": "2023-10-18T07:04:28.258687",
     "exception": false,
     "start_time": "2023-10-18T07:04:28.132638",
     "status": "completed"
    },
    "tags": []
   },
   "outputs": [
    {
     "name": "stdout",
     "output_type": "stream",
     "text": [
      "Naive Base Score:  0.8722164551451629\n",
      "Naive Base F1 Score:  [0.87307078 0.87135055]\n",
      "Naive Base R2 Score:  0.48886167954066173\n"
     ]
    }
   ],
   "source": [
    "nb=GaussianNB()\n",
    "nb.fit(x_train,y_train)\n",
    "print(\"Naive Base Score: \",nb.score(x_test,y_test))\n",
    "print(\"Naive Base F1 Score: \",f1_score(y_test,nb.predict(x_test),average=None))\n",
    "print(\"Naive Base R2 Score: \",r2_score(y_test,nb.predict(x_test)))"
   ]
  },
  {
   "cell_type": "markdown",
   "id": "7d362966",
   "metadata": {
    "papermill": {
     "duration": 0.022844,
     "end_time": "2023-10-18T07:04:28.303973",
     "exception": false,
     "start_time": "2023-10-18T07:04:28.281129",
     "status": "completed"
    },
    "tags": []
   },
   "source": [
    "<a id =\"16\"></a>\n",
    "### K Fold Cross Validation with Logistic Regression"
   ]
  },
  {
   "cell_type": "code",
   "execution_count": 39,
   "id": "4e1dc8fa",
   "metadata": {
    "execution": {
     "iopub.execute_input": "2023-10-18T07:04:28.353878Z",
     "iopub.status.busy": "2023-10-18T07:04:28.353481Z",
     "iopub.status.idle": "2023-10-18T07:04:32.722319Z",
     "shell.execute_reply": "2023-10-18T07:04:32.720850Z"
    },
    "papermill": {
     "duration": 4.397581,
     "end_time": "2023-10-18T07:04:32.725883",
     "exception": false,
     "start_time": "2023-10-18T07:04:28.328302",
     "status": "completed"
    },
    "tags": []
   },
   "outputs": [
    {
     "name": "stdout",
     "output_type": "stream",
     "text": [
      "Average accuracy:  0.9066228255978469\n",
      "Average std:  0.0023165806827295686\n",
      "Logistic Regression test Accuracy 0.9049994977061916\n"
     ]
    }
   ],
   "source": [
    "accuracies=cross_val_score(estimator=lr,X=x_train,y=y_train,cv=10,n_jobs=-1)\n",
    "print(\"Average accuracy: \",np.mean(accuracies))\n",
    "print(\"Average std: \",np.std(accuracies))\n",
    "\n",
    "lr.fit(x_train,y_train)\n",
    "print(\"Logistic Regression test Accuracy\",lr.score(x_test,y_test))"
   ]
  },
  {
   "cell_type": "markdown",
   "id": "3246e53f",
   "metadata": {
    "papermill": {
     "duration": 0.051429,
     "end_time": "2023-10-18T07:04:32.841043",
     "exception": false,
     "start_time": "2023-10-18T07:04:32.789614",
     "status": "completed"
    },
    "tags": []
   },
   "source": [
    "<a id =\"17\"></a>\n",
    "### Grid Search Cross Validation with Logistic Regression"
   ]
  },
  {
   "cell_type": "code",
   "execution_count": 40,
   "id": "66fd371b",
   "metadata": {
    "execution": {
     "iopub.execute_input": "2023-10-18T07:04:32.887781Z",
     "iopub.status.busy": "2023-10-18T07:04:32.887417Z",
     "iopub.status.idle": "2023-10-18T07:06:24.767871Z",
     "shell.execute_reply": "2023-10-18T07:06:24.765913Z"
    },
    "papermill": {
     "duration": 111.970816,
     "end_time": "2023-10-18T07:06:24.834231",
     "exception": false,
     "start_time": "2023-10-18T07:04:32.863415",
     "status": "completed"
    },
    "tags": []
   },
   "outputs": [
    {
     "name": "stdout",
     "output_type": "stream",
     "text": [
      "Fitting 10 folds for each of 14 candidates, totalling 140 fits\n",
      "Optimized hyperparameters:  {'C': 0.001, 'penalty': 'l2'}\n",
      "accuracy:  0.9241392356517268\n"
     ]
    }
   ],
   "source": [
    "grid={\"C\":np.logspace(-3,3,7),\"penalty\":[\"l1\",\"l2\"]}\n",
    "logreg=LogisticRegression()\n",
    "logreg_cv=GridSearchCV(logreg,grid,cv=10,n_jobs=-1,verbose=1)\n",
    "logreg_cv.fit(x,y)\n",
    "\n",
    "print(\"Optimized hyperparameters: \",logreg_cv.best_params_)\n",
    "print(\"accuracy: \",logreg_cv.best_score_)"
   ]
  },
  {
   "cell_type": "markdown",
   "id": "87b366e0",
   "metadata": {
    "papermill": {
     "duration": 0.023174,
     "end_time": "2023-10-18T07:06:24.901174",
     "exception": false,
     "start_time": "2023-10-18T07:06:24.878000",
     "status": "completed"
    },
    "tags": []
   },
   "source": [
    "<a id =\"23\"></a>\n",
    "# Conclusion\n",
    "> * In the Covid data set, we first examined our data and determined the null values ​​in it.\n",
    "> * By separating classifiable futures, we created new futures and dropped the old ones.\n",
    "> * We did a little data analysis to avoid losing null values.\n",
    "> * We visualized our data and made inferences about them.\n",
    "> * Finally, we tested them using different machine laerning algorithms.\n",
    "\n",
    "\n",
    "\n",
    "**Thank you for your upvote and follow. :)**\n"
   ]
  }
 ],
 "metadata": {
  "kernelspec": {
   "display_name": "Python 3",
   "language": "python",
   "name": "python3"
  },
  "language_info": {
   "codemirror_mode": {
    "name": "ipython",
    "version": 3
   },
   "file_extension": ".py",
   "mimetype": "text/x-python",
   "name": "python",
   "nbconvert_exporter": "python",
   "pygments_lexer": "ipython3",
   "version": "3.7.12"
  },
  "papermill": {
   "default_parameters": {},
   "duration": 155.91882,
   "end_time": "2023-10-18T07:06:27.547211",
   "environment_variables": {},
   "exception": null,
   "input_path": "__notebook__.ipynb",
   "output_path": "__notebook__.ipynb",
   "parameters": {},
   "start_time": "2023-10-18T07:03:51.628391",
   "version": "2.3.4"
  }
 },
 "nbformat": 4,
 "nbformat_minor": 5
}
